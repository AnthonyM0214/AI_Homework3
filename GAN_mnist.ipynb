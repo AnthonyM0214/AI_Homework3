{
 "cells": [
  {
   "cell_type": "code",
   "execution_count": 60,
   "metadata": {},
   "outputs": [],
   "source": [
    "import tensorflow as tf\n",
    "from tensorflow.examples.tutorials.mnist import input_data\n",
    "import matplotlib.pyplot as plt\n",
    "import numpy as np"
   ]
  },
  {
   "cell_type": "code",
   "execution_count": 61,
   "metadata": {},
   "outputs": [
    {
     "name": "stdout",
     "output_type": "stream",
     "text": [
      "Extracting mnist_data/train-images-idx3-ubyte.gz\n",
      "Extracting mnist_data/train-labels-idx1-ubyte.gz\n",
      "Extracting mnist_data/t10k-images-idx3-ubyte.gz\n",
      "Extracting mnist_data/t10k-labels-idx1-ubyte.gz\n"
     ]
    }
   ],
   "source": [
    "# 导入数据\n",
    "mnist = input_data.read_data_sets(\"mnist_data\")\n",
    "img = mnist.train.images[50]"
   ]
  },
  {
   "cell_type": "code",
   "execution_count": 62,
   "metadata": {},
   "outputs": [],
   "source": [
    "# 模型输入\n",
    "def get_inputs(real_size, noise_size):\n",
    "#实际图像和随机噪声\n",
    "    real_img = tf.placeholder(tf.float32, [None, real_size], name=\"real_img\")\n",
    "    noise_img = tf.placeholder(tf.float32, [None, noise_size], name=\"noise_img\")\n",
    "    return real_img, noise_img"
   ]
  },
  {
   "cell_type": "code",
   "execution_count": 63,
   "metadata": {
    "collapsed": true
   },
   "outputs": [],
   "source": [
    "#生成器\n",
    "def get_generator(noise_img, n_units, out_dim, reuse=False, alpha=0.01):\n",
    "    with tf.variable_scope(\"generator\", reuse=reuse):\n",
    "        hidden1 = tf.layers.dense(noise_img, n_units)  # 全连接层\n",
    "        hidden1 = tf.maximum(alpha * hidden1, hidden1)\n",
    "        hidden1 = tf.layers.dropout(hidden1, rate=0.2)\n",
    "        logits = tf.layers.dense(hidden1, out_dim)\n",
    "        outputs = tf.tanh(logits)\n",
    "        return logits, outputs"
   ]
  },
  {
   "cell_type": "code",
   "execution_count": 86,
   "metadata": {},
   "outputs": [],
   "source": [
    "#判别器\n",
    "def get_discriminator(img, n_units, reuse=False, alpha=0.01):\n",
    "    with tf.variable_scope(\"discriminator\", reuse=reuse):\n",
    "        hidden1 = tf.layers.dense(img, n_units)\n",
    "        hidden1 = tf.maximum(alpha * hidden1, hidden1)\n",
    "        logits = tf.layers.dense(hidden1, 1)\n",
    "        outputs = tf.sigmoid(logits)\n",
    "        return logits, outputs"
   ]
  },
  {
   "cell_type": "code",
   "execution_count": 87,
   "metadata": {
    "collapsed": true
   },
   "outputs": [],
   "source": [
    "#超参\n",
    "img_size = mnist.train.images[0].shape[0]\n",
    "noise_size = 100\n",
    "g_units = 128\n",
    "d_units = 128\n",
    "alpha = 0.01 # Leak factor\n",
    "learning_rate = 0.001\n",
    "smooth = 0.1"
   ]
  },
  {
   "cell_type": "code",
   "execution_count": 88,
   "metadata": {},
   "outputs": [],
   "source": [
    "#搭建模型\n",
    "tf.reset_default_graph()\n",
    "real_img, noise_img = get_inputs(img_size, noise_size)\n",
    "g_logits, g_outputs = get_generator(noise_img, g_units, img_size)\n",
    "#判别器\n",
    "d_logits_real, d_outputs_real = get_discriminator(real_img, d_units)\n",
    "d_logits_fake, d_outputs_fake = get_discriminator(g_outputs, d_units, reuse=True)\n",
    "#计算loss\n",
    "d_loss_real = tf.reduce_mean(tf.nn.sigmoid_cross_entropy_with_logits(\n",
    "    logits=d_logits_real, labels=tf.ones_like(d_logits_real)\n",
    ") * (1 - smooth))\n",
    "d_loss_fake = tf.reduce_mean(tf.nn.sigmoid_cross_entropy_with_logits(\n",
    "    logits=d_logits_fake, labels=tf.zeros_like(d_logits_fake)\n",
    "))\n",
    "d_loss = tf.add(d_loss_real, d_loss_fake)\n",
    "g_loss = tf.reduce_mean(tf.nn.sigmoid_cross_entropy_with_logits(\n",
    "    logits=d_logits_fake, labels=tf.ones_like(d_logits_fake)\n",
    ") * (1 - smooth))\n",
    "# 获取相应要训练的变量\n",
    "train_vars = tf.trainable_variables()\n",
    "g_vars = [var for var in train_vars if var.name.startswith(\"generator\")]\n",
    "d_vars = [var for var in train_vars if var.name.startswith(\"discriminator\")]"
   ]
  },
  {
   "cell_type": "code",
   "execution_count": 89,
   "metadata": {},
   "outputs": [],
   "source": [
    "#优化器 \n",
    "d_train_opt = tf.train.AdamOptimizer(learning_rate).minimize(d_loss, var_list=d_vars)\n",
    "g_train_opt = tf.train.AdamOptimizer(learning_rate).minimize(g_loss, var_list=g_vars)"
   ]
  },
  {
   "cell_type": "code",
   "execution_count": 90,
   "metadata": {
    "collapsed": true
   },
   "outputs": [],
   "source": [
    "#训练参数\n",
    "epochs = 5000\n",
    "samples = []\n",
    "n_sample = 10\n",
    "losses = []"
   ]
  },
  {
   "cell_type": "code",
   "execution_count": 91,
   "metadata": {},
   "outputs": [
    {
     "name": "stdout",
     "output_type": "stream",
     "text": [
      "5000\n"
     ]
    }
   ],
   "source": [
    "# 把MNISt数据中标签为0的图像提取出来，存到列表里\n",
    "i = j = 0\n",
    "while i<5000:\n",
    "    if mnist.train.labels[j] == 2:\n",
    "        samples.append(mnist.train.images[j])\n",
    "        i += 1\n",
    "    j += 1\n",
    "\n",
    "print(len(samples))\n",
    "size = samples[0].size\n"
   ]
  },
  {
   "cell_type": "code",
   "execution_count": 92,
   "metadata": {},
   "outputs": [
    {
     "name": "stdout",
     "output_type": "stream",
     "text": [
      "784\n"
     ]
    },
    {
     "data": {
      "image/png": "[encoded data removed]",
      "text/plain": [
       "<matplotlib.figure.Figure at 0x1219c1c18>"
      ]
     },
     "metadata": {
      "image/png": {
       "height": 250,
       "width": 253
      }
     },
     "output_type": "display_data"
    }
   ],
   "source": [
    "with tf.Session() as sess:\n",
    "#    初始化参数\n",
    "    tf.global_variables_initializer().run()\n",
    "    for e in range(epochs):\n",
    "        batch_images = samples[e] * 2 -1\n",
    "        batch_noise = np.random.uniform(-1, 1, size=noise_size)\n",
    " \n",
    "        _ = sess.run(d_train_opt, feed_dict={real_img:[batch_images], noise_img:[batch_noise]})\n",
    "        _ = sess.run(g_train_opt, feed_dict={noise_img:[batch_noise]})\n",
    " \n",
    "    sample_noise = np.random.uniform(-1, 1, size=noise_size)\n",
    "    g_logit, g_output = sess.run(get_generator(noise_img, g_units, img_size,\n",
    "                                         reuse=True), feed_dict={\n",
    "        noise_img:[sample_noise]\n",
    "    })\n",
    "    print(g_logit.size)\n",
    "    g_output = (g_output+1)/2\n",
    "    plt.imshow(g_output.reshape([28, 28]), cmap='Greys_r')\n",
    "    plt.show()"
   ]
  },
  {
   "cell_type": "code",
   "execution_count": null,
   "metadata": {
    "collapsed": true
   },
   "outputs": [],
   "source": []
  },
  {
   "cell_type": "code",
   "execution_count": null,
   "metadata": {
    "collapsed": true
   },
   "outputs": [],
   "source": []
  }
 ],
 "metadata": {
  "kernelspec": {
   "display_name": "Python 3",
   "language": "python",
   "name": "python3"
  },
  "language_info": {
   "codemirror_mode": {
    "name": "ipython",
    "version": 3
   },
   "file_extension": ".py",
   "mimetype": "text/x-python",
   "name": "python",
   "nbconvert_exporter": "python",
   "pygments_lexer": "ipython3",
   "version": "3.6.8"
  }
 },
 "nbformat": 4,
 "nbformat_minor": 2
}

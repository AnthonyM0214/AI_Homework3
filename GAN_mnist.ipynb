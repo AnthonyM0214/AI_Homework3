{
 "cells": [
  {
   "cell_type": "code",
   "execution_count": null,
   "metadata": {
    "collapsed": true
   },
   "outputs": [],
   "source": [
    "import tensorflow as tf\n",
    "import numpy as np\n",
    "import matplotlib.pyplot as plt\n",
    "import pickle\n",
    "\n",
    "%matplotlib inline\n",
    "%config InlineBackend.figure_format = 'retina' "
   ]
  },
  {
   "cell_type": "code",
   "execution_count": null,
   "metadata": {
    "collapsed": true
   },
   "outputs": [],
   "source": [
    "# 导入数据\n",
    "from tensorflow.examples.tutorials.mnist import input_data\n",
    "mnist = input_data.read_data_sets('MNIST_data')"
   ]
  },
  {
   "cell_type": "code",
   "execution_count": null,
   "metadata": {
    "collapsed": true
   },
   "outputs": [],
   "source": [
    "# 模型输入\n",
    "def model_input(real_size, noise_size):\n",
    "\n",
    "    real_img = tf.placeholder(tf.float32, [None, real_size], name='input_real')\n",
    "    noise_img = tf.placeholder(tf.float32, [None, noise_size], name='input_z')\n",
    "\n",
    "    return real_img, noise_img"
   ]
  },
  {
   "cell_type": "code",
   "execution_count": null,
   "metadata": {
    "collapsed": true
   },
   "outputs": [],
   "source": [
    "#生成器\n",
    "def generator(noise, out_dim, n_units=128, reuse=False, alpha=0.01):\n",
    "\n",
    "    with tf.variable_scope('generator', reuse=reuse):\n",
    "        h1 = tf.keras.layers.Dense(n_units)(noise)\n",
    "        h1 = tf.keras.layers.LeakyReLU(alpha)(h1)\n",
    "\n",
    "        out = tf.keras.layers.Dense(out_dim, activation='tanh')(h1)\n",
    "\n",
    "    return out"
   ]
  },
  {
   "cell_type": "code",
   "execution_count": null,
   "metadata": {
    "collapsed": true
   },
   "outputs": [],
   "source": [
    "#判别器\n",
    "def discriminator(x, n_units=128, reuse=False, alpha=0.01):\n",
    "    with tf.variable_scope('discriminator', reuse=reuse):\n",
    "        h1 = tf.keras.layers.Dense(n_units)(x)\n",
    "        h1 = tf.keras.layers.LeakyReLU(alpha)(h1)\n",
    "\n",
    "        logits = tf.keras.layers.Dense(1)(h1)\n",
    "        out = tf.keras.layers.Activation('softmax')(logits)\n",
    "    return out, logits"
   ]
  },
  {
   "cell_type": "code",
   "execution_count": null,
   "metadata": {
    "collapsed": true
   },
   "outputs": [],
   "source": [
    "# 超参\n",
    "input_size = 784 #28*28\n",
    "noise_size = 100\n",
    "g_hidden_size = 128\n",
    "d_hidden_size = 128\n",
    "# Leak factor\n",
    "alpha = 0.01\n",
    "# Smoothing\n",
    "smooth = 0.1"
   ]
  },
  {
   "cell_type": "code",
   "execution_count": null,
   "metadata": {
    "collapsed": true
   },
   "outputs": [],
   "source": [
    "tf.reset_default_graph()\n",
    "# 建立输入\n",
    "real_img, noise_img = model_input(input_size, noise_size)\n",
    "\n",
    "# 生成器\n",
    "g_model = generator(noise_img, input_size, g_hidden_size, alpha=alpha)\n",
    "\n",
    "# 判别器\n",
    "d_model_real, d_logits_real = discriminator(real_img, d_hidden_size, alpha=alpha)\n",
    "d_model_fake, d_logits_fake = discriminator(g_model, reuse=True, n_units=d_hidden_size, alpha=alpha)"
   ]
  },
  {
   "cell_type": "code",
   "execution_count": null,
   "metadata": {
    "collapsed": true
   },
   "outputs": [],
   "source": [
    "# Calculate losses\n",
    "\n",
    "d_loss_real = tf.reduce_mean(tf.nn.sigmoid_cross_entropy_with_logits(logits=d_logits_real, labels=tf.ones_like(d_logits_real) * (1 - smooth)))\n",
    "d_loss_fake = tf.reduce_mean(tf.nn.sigmoid_cross_entropy_with_logits(logits=d_logits_fake, labels=tf.zeros_like(d_logits_real)))\n",
    "d_loss = d_loss_real + d_loss_fake\n",
    "g_loss = tf.reduce_mean(tf.nn.sigmoid_cross_entropy_with_logits(logits=d_logits_fake,labels=tf.ones_like(d_logits_fake)))\n"
   ]
  },
  {
   "cell_type": "code",
   "execution_count": null,
   "metadata": {
    "collapsed": true
   },
   "outputs": [],
   "source": [
    "learning_rate = 0.002\n",
    "\n",
    "# 获取相应要训练的变量\n",
    "g_vars = tf.get_collection(tf.GraphKeys.TRAINABLE_VARIABLES, 'generator')\n",
    "d_vars = tf.get_collection(tf.GraphKeys.TRAINABLE_VARIABLES, 'discriminator')\n",
    "\n",
    "d_train_opt = tf.train.AdamOptimizer(learning_rate).minimize(d_loss, var_list=d_vars)\n",
    "g_train_opt = tf.train.AdamOptimizer(learning_rate).minimize(g_loss, var_list=g_vars)"
   ]
  },
  {
   "cell_type": "code",
   "execution_count": null,
   "metadata": {
    "collapsed": true
   },
   "outputs": [],
   "source": [
    "batch_size = 100\n",
    "epochs = 100\n",
    "samples = []\n",
    "losses = []\n",
    "\n",
    "# 只保存生成器变量\n",
    "saver = tf.train.Saver(var_list = g_vars)\n",
    "\n",
    "with tf.Session() as sess:\n",
    "    sess.run(tf.global_variables_initializer())\n",
    "\n",
    "    for e in range(epochs):\n",
    "        for ii in range(mnist.train.num_examples // batch_size):\n",
    "\n",
    "            # 获取一个batch的数据\n",
    "            batch = mnist.train.next_batch(batch_size)\n",
    "            # 将图片拉伸至一维\n",
    "            batch_images = batch[0].reshape((batch_size, 28*28))\n",
    "            # 预处理数据\n",
    "            batch_images = batch_images*2 - 1\n",
    "\n",
    "            # 高斯噪声输入\n",
    "            batch_z = np.random.uniform(-1, 1, size=(batch_size, z_size))\n",
    "\n",
    "            # run optimizers\n",
    "            _ = sess.run(d_train_opt, feed_dict={real_img:batch_images, noise_img:batch_z})\n",
    "            _ = sess.run(g_train_opt, feed_dict={noise_img:batch_z})\n",
    "\n",
    "        train_loss_d = sess.run(d_loss, {noise_img:batch_z, real_img:batch_images})\n",
    "        train_loss_g = g_loss.eval({noise_img:batch_z})\n",
    "\n",
    "        print(\"Epoch {}/{}...\".format(e+1, epochs),\n",
    "              \"Discriminator Loss: {:.4f}...\".format(train_loss_d),\n",
    "              \"Generator Loss: {:.4f}\".format(train_loss_g))\n",
    "\n",
    "        # Save losses to view after training\n",
    "        losses.append((train_loss_d, train_loss_g))\n",
    "\n",
    "        # Sample from generator as we're training for viewing afterwards\n",
    "        sample_z = np.random.uniform(-1, 1, size=(16, z_size))\n",
    "        gen_samples = sess.run(\n",
    "                       generator(noise_img, input_size, reuse=True),\n",
    "                       feed_dict={noise_img: sample_z})\n",
    "\n",
    "        samples.append(gen_samples)"
   ]
  },
  {
   "cell_type": "code",
   "execution_count": null,
   "metadata": {
    "collapsed": true
   },
   "outputs": [],
   "source": [
    "def view_samples(epoch, samples):\n",
    "    fig, axes = plt.subplots(figsize=(7,7), nrows=4, ncols=4, sharey=True, sharex=True)\n",
    "    for ax, img in zip(axes.flatten(), samples[epoch]):\n",
    "        ax.xaxis.set_visible(False)\n",
    "        ax.yaxis.set_visible(False)\n",
    "        im = ax.imshow(img.reshape((28,28)), cmap='Greys_r')\n",
    "\n",
    "    return fig, axes"
   ]
  },
  {
   "cell_type": "code",
   "execution_count": null,
   "metadata": {
    "collapsed": true
   },
   "outputs": [],
   "source": [
    "rows, cols = 10, 6\n",
    "fig, axes = plt.subplots(figsize=(7,12), nrows=rows, ncols=cols, sharex=True, sharey=True)\n",
    "\n",
    "for sample, ax_row in zip(samples[::int(len(samples)/rows)], axes):\n",
    "    for img, ax in zip(sample[::int(len(sample)/cols)], ax_row):\n",
    "        ax.imshow(img.reshape((28,28)), cmap='Greys_r')\n",
    "        ax.xaxis.set_visible(False)\n",
    "        ax.yaxis.set_visible(False)"
   ]
  },
  {
   "cell_type": "code",
   "execution_count": null,
   "metadata": {
    "collapsed": true
   },
   "outputs": [],
   "source": []
  }
 ],
 "metadata": {
  "kernelspec": {
   "display_name": "Python 3",
   "language": "python",
   "name": "python3"
  },
  "language_info": {
   "codemirror_mode": {
    "name": "ipython",
    "version": 3
   },
   "file_extension": ".py",
   "mimetype": "text/x-python",
   "name": "python",
   "nbconvert_exporter": "python",
   "pygments_lexer": "ipython3",
   "version": "3.6.8"
  }
 },
 "nbformat": 4,
 "nbformat_minor": 2
}
